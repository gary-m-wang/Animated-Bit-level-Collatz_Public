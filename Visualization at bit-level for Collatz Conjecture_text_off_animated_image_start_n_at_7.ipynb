{
 "cells": [
  {
   "cell_type": "markdown",
   "id": "6e186556",
   "metadata": {},
   "source": [
    "## Begin with end in mind: image display animating the 'motion' of 1 bits on background of 0 bits (so as to ignore the 0's being non-interesting)"
   ]
  },
  {
   "cell_type": "markdown",
   "id": "f4fa8efb",
   "metadata": {},
   "source": [
    " - Python is good choice for coding because of readily available package to plot and show image"
   ]
  },
  {
   "cell_type": "markdown",
   "id": "59c620a2",
   "metadata": {},
   "source": [
    "### Program Description\n",
    "Implement by an inner loop nested inside an outer loop\n",
    " - Inner loop is to repeat, while n is even, calculating (n /= 2), until n becomes odd\n",
    " - Then knowing n being odd, execute four math steps\n",
    " 1. (n -= 1)\n",
    " 2. (n /= 2)\n",
    " 3. (n *= 3)\n",
    " 4. (n += 2)\n",
    " - All of the above are put in the outer loop, to repeat indefinitely in principle. Yet for practicality, make it termiate after some set number of iterations, or reaching (n == 1), whichever comes first."
   ]
  },
  {
   "cell_type": "markdown",
   "id": "1f88a8ae",
   "metadata": {},
   "source": [
    "### User input to set starting positive interger n"
   ]
  },
  {
   "cell_type": "code",
   "execution_count": 1,
   "id": "3a263a91",
   "metadata": {},
   "outputs": [],
   "source": [
    "import numpy as np"
   ]
  },
  {
   "cell_type": "code",
   "execution_count": 2,
   "id": "f35c9651",
   "metadata": {},
   "outputs": [],
   "source": [
    "### User input\n",
    "start_n = 7\n",
    "###"
   ]
  },
  {
   "cell_type": "code",
   "execution_count": 3,
   "id": "eaff40c3",
   "metadata": {},
   "outputs": [],
   "source": [
    "# Conform to dtype = np.uint64 positive integer n\n",
    "start_n = max(1, abs(int(start_n)))\n",
    "start_n = np.array([start_n], dtype = np.uint64)"
   ]
  },
  {
   "cell_type": "code",
   "execution_count": 4,
   "id": "a42b4959",
   "metadata": {},
   "outputs": [
    {
     "name": "stdout",
     "output_type": "stream",
     "text": [
      "[array([7], dtype=uint64)]\n"
     ]
    }
   ],
   "source": [
    "print([start_n])"
   ]
  },
  {
   "cell_type": "markdown",
   "id": "38877a71",
   "metadata": {},
   "source": [
    "### Calculation of sequence counting each odd term as an iteration"
   ]
  },
  {
   "cell_type": "code",
   "execution_count": 5,
   "id": "f6998198",
   "metadata": {},
   "outputs": [],
   "source": [
    "count_to_terminate_iterations = 100"
   ]
  },
  {
   "cell_type": "code",
   "execution_count": 6,
   "id": "d4592e98",
   "metadata": {},
   "outputs": [],
   "source": [
    "sequence_odd_terms = np.array([], dtype = np.uint64)\n",
    "sequence_math_step_1 = np.array([], dtype = np.uint64)\n",
    "sequence_math_step_2 = np.array([], dtype = np.uint64)\n",
    "sequence_math_step_3 = np.array([], dtype = np.uint64)\n",
    "sequence_math_step_4 = np.array([], dtype = np.uint64)"
   ]
  },
  {
   "cell_type": "code",
   "execution_count": 7,
   "id": "62e1d4c8",
   "metadata": {},
   "outputs": [],
   "source": [
    "n = start_n"
   ]
  },
  {
   "cell_type": "code",
   "execution_count": 8,
   "id": "eee481db",
   "metadata": {},
   "outputs": [
    {
     "name": "stdout",
     "output_type": "stream",
     "text": [
      "Odd term n ==  7 at iteration  0\n",
      "Odd term n ==  11 at iteration  1\n",
      "Odd term n ==  17 at iteration  2\n",
      "Odd term n ==  13 at iteration  3\n",
      "Odd term n ==  5 at iteration  4\n",
      "Odd term n ==  1 at iteration  5\n",
      "Terminated upon reaching n == 1 at iteration  5\n"
     ]
    }
   ],
   "source": [
    "for count_iterations in range(count_to_terminate_iterations):\n",
    "    while (not (n[0] % 2)):\n",
    "        n[0] /= 2\n",
    "    print('Odd term n == ', n[0], 'at iteration ', count_iterations)\n",
    "    sequence_odd_terms = np.append(sequence_odd_terms, n)\n",
    "    n[0] -= 1\n",
    "    sequence_math_step_1 = np.append(sequence_math_step_1, n)\n",
    "    n[0] /= 2\n",
    "    sequence_math_step_2 = np.append(sequence_math_step_2, n)\n",
    "    n[0] *= 3\n",
    "    sequence_math_step_3 = np.append(sequence_math_step_3, n)\n",
    "    n[0] += 2\n",
    "    sequence_math_step_4 = np.append(sequence_math_step_4, n)\n",
    "    if (n[0] <= 2):\n",
    "        print('Terminated upon reaching n == 1 at iteration ', count_iterations)\n",
    "        break\n",
    "else:\n",
    "    print('Terminated with n == ', n[0],' without reaching n == 1 after iteration ', count_iterations)"
   ]
  },
  {
   "cell_type": "code",
   "execution_count": 9,
   "id": "61f0c5ce",
   "metadata": {},
   "outputs": [
    {
     "name": "stdout",
     "output_type": "stream",
     "text": [
      "6\n"
     ]
    }
   ],
   "source": [
    "print(sequence_odd_terms.size)"
   ]
  },
  {
   "cell_type": "code",
   "execution_count": 10,
   "id": "a7622fd4",
   "metadata": {},
   "outputs": [
    {
     "name": "stdout",
     "output_type": "stream",
     "text": [
      "[array([ 7, 11, 17, 13,  5,  1], dtype=uint64)]\n"
     ]
    }
   ],
   "source": [
    "print([sequence_odd_terms])"
   ]
  },
  {
   "cell_type": "markdown",
   "id": "bcab7083",
   "metadata": {},
   "source": [
    "### Visualization"
   ]
  },
  {
   "cell_type": "markdown",
   "id": "d2a51af1",
   "metadata": {},
   "source": [
    " - Binary: 1 bits on background of 0 bits, shown as static image"
   ]
  },
  {
   "cell_type": "code",
   "execution_count": 11,
   "id": "f8aa405c",
   "metadata": {},
   "outputs": [],
   "source": [
    "from PIL import Image, ImageDraw, ImageFont"
   ]
  },
  {
   "cell_type": "code",
   "execution_count": 12,
   "id": "d5c9e395",
   "metadata": {},
   "outputs": [],
   "source": [
    "# Bit-wise mask to cut off uppermost bits (MSB end) which will leave lowermost bits (LSB end) for display\n",
    "number_of_bits_to_show = 12"
   ]
  },
  {
   "cell_type": "code",
   "execution_count": 13,
   "id": "3fb50479",
   "metadata": {},
   "outputs": [],
   "source": [
    "array_bits_show = np.fromiter((2 ** bit for bit in range(number_of_bits_to_show)), dtype = np.uint64)\n",
    "array_reversed_bits_show = np.fromiter((2 ** bit for bit in reversed(range(number_of_bits_to_show))), dtype = np.uint64)"
   ]
  },
  {
   "cell_type": "code",
   "execution_count": 14,
   "id": "38db893b",
   "metadata": {},
   "outputs": [],
   "source": [
    "array_mask = np.bitwise_and(np.transpose([array_bits_show]), array_reversed_bits_show)\n",
    "array_mask_binary = np.array(array_mask != 0, dtype = np.uint8)\n",
    "array_mask_color = np.stack((array_mask_binary * 255, array_mask_binary * 191, array_mask_binary * 127), axis = -1)"
   ]
  },
  {
   "cell_type": "code",
   "execution_count": 15,
   "id": "4346e27a",
   "metadata": {},
   "outputs": [],
   "source": [
    "pil_image_mask = Image.fromarray(array_mask_color)\n",
    "pil_image_mask_x100 = pil_image_mask.resize((pil_image_mask.size[0] * 100, pil_image_mask.size[1] * 100), resample = 0)"
   ]
  },
  {
   "cell_type": "code",
   "execution_count": 16,
   "id": "75600026",
   "metadata": {},
   "outputs": [],
   "source": [
    "pil_image_mask_x100.show()"
   ]
  },
  {
   "cell_type": "code",
   "execution_count": 17,
   "id": "945e9ceb",
   "metadata": {},
   "outputs": [],
   "source": [
    "array_odd_terms = np.bitwise_and(np.transpose([sequence_odd_terms]), array_reversed_bits_show)\n",
    "array_odd_terms_binary = np.array(array_odd_terms != 0, dtype = np.uint8)\n",
    "array_odd_terms_color = np.stack((array_odd_terms_binary * 255, array_odd_terms_binary * 191, array_odd_terms_binary * 127), axis = -1)"
   ]
  },
  {
   "cell_type": "code",
   "execution_count": 18,
   "id": "400ccfd9",
   "metadata": {},
   "outputs": [],
   "source": [
    "pil_image_odd_terms = Image.fromarray(array_odd_terms_color)\n",
    "pil_image_odd_terms_x100 = pil_image_odd_terms.resize((pil_image_odd_terms.size[0] * 100, pil_image_odd_terms.size[1] * 100), resample = 0)"
   ]
  },
  {
   "cell_type": "code",
   "execution_count": 19,
   "id": "b168139b",
   "metadata": {},
   "outputs": [],
   "source": [
    "pil_image_odd_terms_x100.show()"
   ]
  },
  {
   "cell_type": "code",
   "execution_count": 20,
   "id": "0548a7ee",
   "metadata": {},
   "outputs": [],
   "source": [
    "pil_text_on_image_odd_terms_x100 = pil_image_odd_terms_x100.copy()"
   ]
  },
  {
   "cell_type": "code",
   "execution_count": 21,
   "id": "d7415f09",
   "metadata": {},
   "outputs": [],
   "source": [
    "# Draw method to position text on image\n",
    "font_arial = ImageFont.truetype('arial.ttf', 50)\n",
    "fill_color = (0, 255, 0)\n",
    "pil_draw_static = ImageDraw.Draw(pil_text_on_image_odd_terms_x100)"
   ]
  },
  {
   "cell_type": "code",
   "execution_count": 22,
   "id": "f98bb9bf",
   "metadata": {},
   "outputs": [],
   "source": [
    "text_mod = '(odd terms) % ' + str(2 ** number_of_bits_to_show)\n",
    "position_mod = (250, 5)\n",
    "pil_draw_static.text(position_mod, text_mod, font = font_arial, fill = fill_color)"
   ]
  },
  {
   "cell_type": "code",
   "execution_count": 23,
   "id": "f2b4e302",
   "metadata": {},
   "outputs": [],
   "source": [
    "for enumerator, each_odd_term in enumerate(sequence_odd_terms):\n",
    "    text_str = ''\n",
    "    for each_element in array_odd_terms[enumerator]:\n",
    "        if (text_str == ''):\n",
    "            text_str = ' = ' + str(each_element)\n",
    "        else:\n",
    "            text_str = text_str + ' + ' + str(each_element)\n",
    "    text_str = str(int(each_odd_term % (2 ** number_of_bits_to_show))) + text_str\n",
    "    position_str = (25, 50 + 100*enumerator)\n",
    "    pil_draw_static.text(position_str, text_str, font = font_arial, fill = fill_color)"
   ]
  },
  {
   "cell_type": "code",
   "execution_count": 24,
   "id": "50a76dc2",
   "metadata": {},
   "outputs": [],
   "source": [
    "pil_text_on_image_odd_terms_x100.show()"
   ]
  },
  {
   "cell_type": "markdown",
   "id": "6ed9aa14",
   "metadata": {},
   "source": [
    " - Binary: 1 bits on background of 0 bits, shown as animated image"
   ]
  },
  {
   "cell_type": "code",
   "execution_count": 25,
   "id": "cea70b7e",
   "metadata": {},
   "outputs": [],
   "source": [
    "array_row_blank = np.zeros(number_of_bits_to_show)"
   ]
  },
  {
   "cell_type": "code",
   "execution_count": 26,
   "id": "db9c6ef5",
   "metadata": {},
   "outputs": [],
   "source": [
    "# number_of_rows_in_frame = 12 # hardcoded with allocation of blank rows where to position text on animated image\n",
    "array_frame_blank = np.zeros((12, number_of_bits_to_show))"
   ]
  },
  {
   "cell_type": "code",
   "execution_count": 27,
   "id": "9ea15ac2",
   "metadata": {},
   "outputs": [],
   "source": [
    "pil_image_frames = []\n",
    "for each_odd_term, each_math_step_1, each_math_step_2, each_math_step_3, each_math_step_4 in zip(sequence_odd_terms, sequence_math_step_1, sequence_math_step_2, sequence_math_step_3, sequence_math_step_4):\n",
    "    array_frame = np.copy(array_frame_blank)\n",
    "\n",
    "    array_frame[1, :] = np.bitwise_and(each_odd_term, array_reversed_bits_show)\n",
    "    array_frame_binary = np.array(array_frame != 0, dtype = np.uint8)\n",
    "    array_frame_color = np.stack((array_frame_binary * 255, array_frame_binary * 191, array_frame_binary * 127), axis = -1)\n",
    "    pil_image_frame = Image.fromarray(array_frame_color)\n",
    "    pil_image_frame_x100 = pil_image_frame.resize((pil_image_frame.size[0] * 100, pil_image_frame.size[1] * 100), resample = 0)\n",
    "    pil_image_frames.append(pil_image_frame_x100)\n",
    "\n",
    "    if (each_odd_term == 1):\n",
    "        break\n",
    "\n",
    "    array_frame[4, :] = np.bitwise_and(each_math_step_1, array_reversed_bits_show)\n",
    "    array_frame_binary = np.array(array_frame != 0, dtype = np.uint8)\n",
    "    array_frame_color = np.stack((array_frame_binary * 255, array_frame_binary * 191, array_frame_binary * 127), axis = -1)\n",
    "    pil_image_frame = Image.fromarray(array_frame_color)\n",
    "    pil_image_frame_x100 = pil_image_frame.resize((pil_image_frame.size[0] * 100, pil_image_frame.size[1] * 100), resample = 0)\n",
    "    pil_image_frames.append(pil_image_frame_x100)\n",
    "\n",
    "    array_frame[6, :] = np.bitwise_and(each_math_step_2, array_reversed_bits_show)\n",
    "    array_frame_binary = np.array(array_frame != 0, dtype = np.uint8)\n",
    "    array_frame_color = np.stack((array_frame_binary * 255, array_frame_binary * 191, array_frame_binary * 127), axis = -1)\n",
    "    pil_image_frame = Image.fromarray(array_frame_color)\n",
    "    pil_image_frame_x100 = pil_image_frame.resize((pil_image_frame.size[0] * 100, pil_image_frame.size[1] * 100), resample = 0)\n",
    "    pil_image_frames.append(pil_image_frame_x100)\n",
    "\n",
    "    array_frame[8, :] = np.bitwise_and(each_math_step_3, array_reversed_bits_show)\n",
    "    array_frame_binary = np.array(array_frame != 0, dtype = np.uint8)\n",
    "    array_frame_color = np.stack((array_frame_binary * 255, array_frame_binary * 191, array_frame_binary * 127), axis = -1)\n",
    "    pil_image_frame = Image.fromarray(array_frame_color)\n",
    "    pil_image_frame_x100 = pil_image_frame.resize((pil_image_frame.size[0] * 100, pil_image_frame.size[1] * 100), resample = 0)\n",
    "    pil_image_frames.append(pil_image_frame_x100)\n",
    "\n",
    "    array_frame[10, :] = np.bitwise_and(each_math_step_4, array_reversed_bits_show)\n",
    "    array_frame_binary = np.array(array_frame != 0, dtype = np.uint8)\n",
    "    array_frame_color = np.stack((array_frame_binary * 255, array_frame_binary * 191, array_frame_binary * 127), axis = -1)\n",
    "    pil_image_frame = Image.fromarray(array_frame_color)\n",
    "    pil_image_frame_x100 = pil_image_frame.resize((pil_image_frame.size[0] * 100, pil_image_frame.size[1] * 100), resample = 0)\n",
    "    pil_image_frames.append(pil_image_frame_x100)\n",
    "\n",
    "    # number_of_rows_in_frame = 12 # hardcoded with allocation of blank rows where to position text on animated image\n",
    "    for shift_up_rows in range(12 - 3):\n",
    "        array_frame[1:-1, :] = array_frame[2:, :]\n",
    "        array_frame[-2, :] = np.copy(array_row_blank)\n",
    "        array_frame_binary = np.array(array_frame != 0, dtype = np.uint8)\n",
    "        array_frame_color = np.stack((array_frame_binary * 255, array_frame_binary * 191, array_frame_binary * 127), axis = -1)\n",
    "        pil_image_frame = Image.fromarray(array_frame_color)\n",
    "        pil_image_frame_x100 = pil_image_frame.resize((pil_image_frame.size[0] * 100, pil_image_frame.size[1] * 100), resample = 0)\n",
    "        pil_image_frames.append(pil_image_frame_x100)"
   ]
  },
  {
   "cell_type": "code",
   "execution_count": 28,
   "id": "cc69aa49",
   "metadata": {},
   "outputs": [],
   "source": [
    "for loop_end_freeze_frames in range(3):\n",
    "    pil_image_frames.append(pil_image_frames[-1])"
   ]
  },
  {
   "cell_type": "code",
   "execution_count": 29,
   "id": "5858e7a4",
   "metadata": {},
   "outputs": [],
   "source": [
    "array_frame_blank_binary = np.array(array_frame_blank != 0, dtype = np.uint8)\n",
    "array_frame_blank_color = np.stack((array_frame_blank_binary * 255, array_frame_blank_binary * 191, array_frame_blank_binary * 127), axis = -1)"
   ]
  },
  {
   "cell_type": "code",
   "execution_count": 30,
   "id": "1d81851c",
   "metadata": {},
   "outputs": [],
   "source": [
    "pil_image_frame_blank = Image.fromarray(array_frame_blank_color)\n",
    "pil_image_frame_blank_x100 = pil_image_frame_blank.resize((pil_image_frame_blank.size[0] * 100, pil_image_frame_blank.size[1] * 100), resample = 0)"
   ]
  },
  {
   "cell_type": "code",
   "execution_count": 31,
   "id": "c5f538d0",
   "metadata": {},
   "outputs": [],
   "source": [
    "for loop_end_blank_frames in range(6):\n",
    "    pil_image_frames.append(pil_image_frame_blank_x100)"
   ]
  },
  {
   "cell_type": "code",
   "execution_count": 32,
   "id": "4560e86d",
   "metadata": {},
   "outputs": [],
   "source": [
    "pil_image_frames[0].save('text_off_animated_image_start_n_at_7.gif', format='GIF', append_images=pil_image_frames[1:], save_all=True, duration=250, loop=0)"
   ]
  },
  {
   "cell_type": "code",
   "execution_count": 33,
   "id": "e124949d",
   "metadata": {},
   "outputs": [],
   "source": [
    "#pil_image_frames[0].save('text_on_animated_image_start_n_at_7.gif', format='GIF', append_images=pil_image_frames[1:], save_all=True, duration=250, loop=0)"
   ]
  },
  {
   "cell_type": "code",
   "execution_count": null,
   "id": "cbd3c84f",
   "metadata": {},
   "outputs": [],
   "source": []
  }
 ],
 "metadata": {
  "kernelspec": {
   "display_name": "Python 3",
   "language": "python",
   "name": "python3"
  },
  "language_info": {
   "codemirror_mode": {
    "name": "ipython",
    "version": 3
   },
   "file_extension": ".py",
   "mimetype": "text/x-python",
   "name": "python",
   "nbconvert_exporter": "python",
   "pygments_lexer": "ipython3",
   "version": "3.8.8"
  }
 },
 "nbformat": 4,
 "nbformat_minor": 5
}
